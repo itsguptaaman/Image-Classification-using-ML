{
 "cells": [
  {
   "cell_type": "markdown",
   "metadata": {},
   "source": [
    "### [DATASET LINK](https://drive.google.com/file/d/1lWgKokYUrD5PPMO3tCy-yMN2ytaSnjTV/view?usp=sharing)"
   ]
  },
  {
   "cell_type": "markdown",
   "metadata": {},
   "source": [
    "### First Approach\n",
    "- Extracting all the Features Like histogram_equalization, grayscale_transformation, edge_detection, hough_transform\n",
    "- Passing it to PCA to reduce the Dimensions\n",
    "-  Training a model and checking its Accuracy"
   ]
  },
  {
   "cell_type": "code",
   "execution_count": 145,
   "metadata": {},
   "outputs": [],
   "source": [
    "import os\n",
    "import cv2\n",
    "import numpy as np\n",
    "from sklearn.decomposition import PCA\n",
    "from sklearn.model_selection import train_test_split\n",
    "from sklearn.svm import SVC\n",
    "from sklearn.metrics import classification_report, accuracy_score"
   ]
  },
  {
   "cell_type": "code",
   "execution_count": 146,
   "metadata": {},
   "outputs": [],
   "source": [
    "# Define paths to datasets\n",
    "dataset_paths = os.getcwd() + \"/dataset_1/dataset_full\"\n",
    "\n",
    "dataset_paths = {\n",
    "    \"Building\": os.path.join(dataset_paths, \"Building\"),\n",
    "    \"Forest\": os.path.join(dataset_paths, \"Forest\"),\n",
    "    \"Glacier\": os.path.join(dataset_paths, \"Glacier\"),\n",
    "    \"Mountain\": os.path.join(dataset_paths, \"Mountains\"),\n",
    "    \"Sea\": os.path.join(dataset_paths, \"Sea\"),\n",
    "    \"Street\": os.path.join(dataset_paths, \"Streets\")\n",
    "}"
   ]
  },
  {
   "cell_type": "code",
   "execution_count": 147,
   "metadata": {},
   "outputs": [],
   "source": [
    "# Feature extraction functions\n",
    "\n",
    "def histogram_equalization(image):\n",
    "    # Convert the image to grayscale\n",
    "    gray = cv2.cvtColor(image, cv2.COLOR_BGR2GRAY)\n",
    "    equalized = cv2.equalizeHist(gray)\n",
    "    return equalized\n",
    "\n",
    "\n",
    "def grayscale_transformation(image):\n",
    "    return cv2.cvtColor(image, cv2.COLOR_BGR2GRAY)\n",
    "\n",
    "\n",
    "def image_smoothing(image):\n",
    "    return cv2.GaussianBlur(image, (5, 5), 0)\n",
    "\n",
    "\n",
    "def edge_detection(image):\n",
    "    gray = cv2.cvtColor(image, cv2.COLOR_BGR2GRAY)\n",
    "    sobelx = cv2.Sobel(gray, cv2.CV_64F, 1, 0, ksize=5)\n",
    "    canny = cv2.Canny(gray, 100, 200)\n",
    "    return sobelx, canny\n",
    "\n",
    "\n",
    "def hough_transform(image):\n",
    "    gray = cv2.cvtColor(image, cv2.COLOR_BGR2GRAY)\n",
    "    edges = cv2.Canny(gray, 50, 150, apertureSize=3)\n",
    "    lines = cv2.HoughLines(edges, 1, np.pi/180, 200)\n",
    "    if lines is not None:\n",
    "        lines = lines.flatten()\n",
    "    else:\n",
    "        lines = np.zeros((1,))\n",
    "    return lines\n",
    "\n",
    "\n",
    "def sift_features(image):\n",
    "    gray = cv2.cvtColor(image, cv2.COLOR_BGR2GRAY)\n",
    "    sift = cv2.SIFT_create()\n",
    "    keypoints, descriptors = sift.detectAndCompute(gray, None)\n",
    "    if descriptors is not None:\n",
    "        descriptors = descriptors.flatten()\n",
    "    else:\n",
    "        descriptors = np.zeros((128,))\n",
    "    return descriptors\n",
    "\n",
    "\n",
    "def extract_features(image):\n",
    "    features = []\n",
    "    equalized = histogram_equalization(image)\n",
    "    features.append(equalized.flatten())\n",
    "    \n",
    "    gray = grayscale_transformation(image)\n",
    "    features.append(gray.flatten())\n",
    "    \n",
    "    smooth = image_smoothing(image)\n",
    "    features.append(smooth.flatten())\n",
    "    \n",
    "    sobelx, canny = edge_detection(image)\n",
    "    features.append(sobelx.flatten())\n",
    "    features.append(canny.flatten())\n",
    "    \n",
    "    lines = hough_transform(image)\n",
    "    features.append(lines.flatten())\n",
    "    \n",
    "    descriptors = sift_features(image)\n",
    "    features.append(descriptors.flatten())\n",
    "    \n",
    "    # Pad or truncate each feature vector to a fixed length (e.g., 2000)\n",
    "    max_length = 2000\n",
    "    padded_features = []\n",
    "    for feature in features:\n",
    "        if feature.shape[0] > max_length:\n",
    "            feature = feature[:max_length]\n",
    "        else:\n",
    "            feature = np.pad(feature, (0, max_length - feature.shape[0]), 'constant')\n",
    "        padded_features.append(feature)\n",
    "    \n",
    "    return np.concatenate(padded_features)\n",
    "\n",
    "\n",
    "# apply pca function\n",
    "def apply_pca(features, n_components):\n",
    "    pca = PCA(n_components=n_components)\n",
    "    return pca.fit_transform(features)\n"
   ]
  },
  {
   "cell_type": "code",
   "execution_count": 148,
   "metadata": {},
   "outputs": [],
   "source": [
    "# Load dataset\n",
    "images = []\n",
    "labels = []\n",
    "label_map = {0: \"Building\", 1: \"Forest\", 2: \"Glacier\", 3: \"Mountain\", 4: \"Sea\", 5: \"Street\"}\n",
    "\n",
    "for label, class_name in enumerate(label_map.values()):\n",
    "    class_dir = dataset_paths[class_name]\n",
    "    for file_name in os.listdir(class_dir):\n",
    "        file_path = os.path.join(class_dir, file_name)\n",
    "        image = cv2.imread(file_path)\n",
    "        if image is not None:\n",
    "            images.append(image)\n",
    "            labels.append(label)"
   ]
  },
  {
   "cell_type": "code",
   "execution_count": 149,
   "metadata": {},
   "outputs": [],
   "source": [
    "# Extract features for all images\n",
    "features = np.array([extract_features(image) for image in images])"
   ]
  },
  {
   "cell_type": "code",
   "execution_count": 150,
   "metadata": {},
   "outputs": [],
   "source": [
    "# Apply PCA to reduce dimensionality\n",
    "reduced_features = apply_pca(features, n_components=10)"
   ]
  },
  {
   "cell_type": "code",
   "execution_count": 151,
   "metadata": {},
   "outputs": [],
   "source": [
    "# Split the dataset into training and testing sets\n",
    "X_train, X_test, y_train, y_test = train_test_split(reduced_features, labels, test_size=0.2, random_state=42)"
   ]
  },
  {
   "cell_type": "code",
   "execution_count": 152,
   "metadata": {},
   "outputs": [
    {
     "data": {
      "text/html": [
       "<style>#sk-container-id-2 {color: black;}#sk-container-id-2 pre{padding: 0;}#sk-container-id-2 div.sk-toggleable {background-color: white;}#sk-container-id-2 label.sk-toggleable__label {cursor: pointer;display: block;width: 100%;margin-bottom: 0;padding: 0.3em;box-sizing: border-box;text-align: center;}#sk-container-id-2 label.sk-toggleable__label-arrow:before {content: \"▸\";float: left;margin-right: 0.25em;color: #696969;}#sk-container-id-2 label.sk-toggleable__label-arrow:hover:before {color: black;}#sk-container-id-2 div.sk-estimator:hover label.sk-toggleable__label-arrow:before {color: black;}#sk-container-id-2 div.sk-toggleable__content {max-height: 0;max-width: 0;overflow: hidden;text-align: left;background-color: #f0f8ff;}#sk-container-id-2 div.sk-toggleable__content pre {margin: 0.2em;color: black;border-radius: 0.25em;background-color: #f0f8ff;}#sk-container-id-2 input.sk-toggleable__control:checked~div.sk-toggleable__content {max-height: 200px;max-width: 100%;overflow: auto;}#sk-container-id-2 input.sk-toggleable__control:checked~label.sk-toggleable__label-arrow:before {content: \"▾\";}#sk-container-id-2 div.sk-estimator input.sk-toggleable__control:checked~label.sk-toggleable__label {background-color: #d4ebff;}#sk-container-id-2 div.sk-label input.sk-toggleable__control:checked~label.sk-toggleable__label {background-color: #d4ebff;}#sk-container-id-2 input.sk-hidden--visually {border: 0;clip: rect(1px 1px 1px 1px);clip: rect(1px, 1px, 1px, 1px);height: 1px;margin: -1px;overflow: hidden;padding: 0;position: absolute;width: 1px;}#sk-container-id-2 div.sk-estimator {font-family: monospace;background-color: #f0f8ff;border: 1px dotted black;border-radius: 0.25em;box-sizing: border-box;margin-bottom: 0.5em;}#sk-container-id-2 div.sk-estimator:hover {background-color: #d4ebff;}#sk-container-id-2 div.sk-parallel-item::after {content: \"\";width: 100%;border-bottom: 1px solid gray;flex-grow: 1;}#sk-container-id-2 div.sk-label:hover label.sk-toggleable__label {background-color: #d4ebff;}#sk-container-id-2 div.sk-serial::before {content: \"\";position: absolute;border-left: 1px solid gray;box-sizing: border-box;top: 0;bottom: 0;left: 50%;z-index: 0;}#sk-container-id-2 div.sk-serial {display: flex;flex-direction: column;align-items: center;background-color: white;padding-right: 0.2em;padding-left: 0.2em;position: relative;}#sk-container-id-2 div.sk-item {position: relative;z-index: 1;}#sk-container-id-2 div.sk-parallel {display: flex;align-items: stretch;justify-content: center;background-color: white;position: relative;}#sk-container-id-2 div.sk-item::before, #sk-container-id-2 div.sk-parallel-item::before {content: \"\";position: absolute;border-left: 1px solid gray;box-sizing: border-box;top: 0;bottom: 0;left: 50%;z-index: -1;}#sk-container-id-2 div.sk-parallel-item {display: flex;flex-direction: column;z-index: 1;position: relative;background-color: white;}#sk-container-id-2 div.sk-parallel-item:first-child::after {align-self: flex-end;width: 50%;}#sk-container-id-2 div.sk-parallel-item:last-child::after {align-self: flex-start;width: 50%;}#sk-container-id-2 div.sk-parallel-item:only-child::after {width: 0;}#sk-container-id-2 div.sk-dashed-wrapped {border: 1px dashed gray;margin: 0 0.4em 0.5em 0.4em;box-sizing: border-box;padding-bottom: 0.4em;background-color: white;}#sk-container-id-2 div.sk-label label {font-family: monospace;font-weight: bold;display: inline-block;line-height: 1.2em;}#sk-container-id-2 div.sk-label-container {text-align: center;}#sk-container-id-2 div.sk-container {/* jupyter's `normalize.less` sets `[hidden] { display: none; }` but bootstrap.min.css set `[hidden] { display: none !important; }` so we also need the `!important` here to be able to override the default hidden behavior on the sphinx rendered scikit-learn.org. See: https://github.com/scikit-learn/scikit-learn/issues/21755 */display: inline-block !important;position: relative;}#sk-container-id-2 div.sk-text-repr-fallback {display: none;}</style><div id=\"sk-container-id-2\" class=\"sk-top-container\"><div class=\"sk-text-repr-fallback\"><pre>SVC()</pre><b>In a Jupyter environment, please rerun this cell to show the HTML representation or trust the notebook. <br />On GitHub, the HTML representation is unable to render, please try loading this page with nbviewer.org.</b></div><div class=\"sk-container\" hidden><div class=\"sk-item\"><div class=\"sk-estimator sk-toggleable\"><input class=\"sk-toggleable__control sk-hidden--visually\" id=\"sk-estimator-id-2\" type=\"checkbox\" checked><label for=\"sk-estimator-id-2\" class=\"sk-toggleable__label sk-toggleable__label-arrow\">SVC</label><div class=\"sk-toggleable__content\"><pre>SVC()</pre></div></div></div></div></div>"
      ],
      "text/plain": [
       "SVC()"
      ]
     },
     "execution_count": 152,
     "metadata": {},
     "output_type": "execute_result"
    }
   ],
   "source": [
    "# Train a classification model\n",
    "model = SVC()\n",
    "model.fit(X_train, y_train)"
   ]
  },
  {
   "cell_type": "code",
   "execution_count": 153,
   "metadata": {},
   "outputs": [],
   "source": [
    "# Make predictions\n",
    "y_pred = model.predict(X_test)"
   ]
  },
  {
   "cell_type": "code",
   "execution_count": 154,
   "metadata": {},
   "outputs": [
    {
     "name": "stdout",
     "output_type": "stream",
     "text": [
      "Accuracy: 57.29%\n"
     ]
    }
   ],
   "source": [
    "# Evaluate the model\n",
    "accuracy = accuracy_score(y_test, y_pred)\n",
    "print(f\"Accuracy: {accuracy * 100:.2f}%\")"
   ]
  },
  {
   "cell_type": "code",
   "execution_count": 155,
   "metadata": {},
   "outputs": [
    {
     "name": "stdout",
     "output_type": "stream",
     "text": [
      "Accuracy: 0.572926596758818\n",
      "Classification Report:\n",
      "              precision    recall  f1-score   support\n",
      "\n",
      "    Building       0.00      0.00      0.00       112\n",
      "      Forest       0.75      0.95      0.84       539\n",
      "     Glacier       0.29      0.02      0.04        94\n",
      "    Mountain       0.33      0.01      0.02       107\n",
      "         Sea       0.24      0.93      0.38        91\n",
      "      Street       0.00      0.00      0.00       106\n",
      "\n",
      "    accuracy                           0.57      1049\n",
      "   macro avg       0.27      0.32      0.21      1049\n",
      "weighted avg       0.47      0.57      0.47      1049\n",
      "\n"
     ]
    },
    {
     "name": "stderr",
     "output_type": "stream",
     "text": [
      "/home/aman/miniconda3/envs/tasks/lib/python3.8/site-packages/sklearn/metrics/_classification.py:1471: UndefinedMetricWarning: Precision and F-score are ill-defined and being set to 0.0 in labels with no predicted samples. Use `zero_division` parameter to control this behavior.\n",
      "  _warn_prf(average, modifier, msg_start, len(result))\n",
      "/home/aman/miniconda3/envs/tasks/lib/python3.8/site-packages/sklearn/metrics/_classification.py:1471: UndefinedMetricWarning: Precision and F-score are ill-defined and being set to 0.0 in labels with no predicted samples. Use `zero_division` parameter to control this behavior.\n",
      "  _warn_prf(average, modifier, msg_start, len(result))\n",
      "/home/aman/miniconda3/envs/tasks/lib/python3.8/site-packages/sklearn/metrics/_classification.py:1471: UndefinedMetricWarning: Precision and F-score are ill-defined and being set to 0.0 in labels with no predicted samples. Use `zero_division` parameter to control this behavior.\n",
      "  _warn_prf(average, modifier, msg_start, len(result))\n"
     ]
    }
   ],
   "source": [
    "# Evaluate the model\n",
    "print(\"Accuracy:\", accuracy_score(y_test, y_pred))\n",
    "print(\"Classification Report:\")\n",
    "print(classification_report(y_test, y_pred, target_names=label_map.values()))"
   ]
  },
  {
   "cell_type": "code",
   "execution_count": null,
   "metadata": {},
   "outputs": [],
   "source": []
  },
  {
   "cell_type": "markdown",
   "metadata": {},
   "source": [
    "## Second Approach\n",
    "- Extract Colour Intensity from the Image and use that to train model\n",
    "- Passing Image to PCA to extract Features and use that to train model\n",
    "- Training the model"
   ]
  },
  {
   "cell_type": "code",
   "execution_count": null,
   "metadata": {},
   "outputs": [],
   "source": []
  },
  {
   "cell_type": "code",
   "execution_count": 156,
   "metadata": {},
   "outputs": [],
   "source": [
    "import os\n",
    "import cv2\n",
    "import numpy as np\n",
    "\n",
    "# Define paths to datasets\n",
    "dataset_paths = os.getcwd() + \"/dataset_1/dataset_full\"\n",
    "dataset_paths = {\n",
    "    \"Building\": os.path.join(dataset_paths, \"Building\"),\n",
    "    \"Forest\": os.path.join(dataset_paths, \"Forest\"),\n",
    "    \"Glacier\": os.path.join(dataset_paths, \"Glacier\"),\n",
    "    \"Mountain\": os.path.join(dataset_paths, \"Mountains\"),\n",
    "    \"Sea\": os.path.join(dataset_paths, \"Sea\"),\n",
    "    \"Street\": os.path.join(dataset_paths, \"Streets\")\n",
    "}\n",
    "\n",
    "\n",
    "def load_images_from_folder(folder):\n",
    "    images = []\n",
    "    for filename in os.listdir(folder):\n",
    "        img = cv2.imread(os.path.join(folder, filename))\n",
    "        if img is not None:\n",
    "            img = cv2.resize(img, (128, 128))  # Resize image to a fixed size\n",
    "            images.append(img)\n",
    "    return images\n",
    "\n",
    "\n",
    "def extract_color_intensity(image):\n",
    "    # Calculate the mean color intensity for each channel (R, G, B)\n",
    "    mean_intensity = image.mean(axis=(0, 1))\n",
    "    return mean_intensity\n",
    "\n",
    "\n",
    "def extract_features(image):\n",
    "    features = []\n",
    "    equalized = histogram_equalization(image)\n",
    "    features.append(equalized.flatten())\n",
    "    \n",
    "    gray = grayscale_transformation(image)\n",
    "    features.append(gray.flatten())\n",
    "    \n",
    "    smooth = image_smoothing(image)\n",
    "    features.append(smooth.flatten())\n",
    "    \n",
    "    sobelx, canny = edge_detection(image)\n",
    "    features.append(sobelx.flatten())\n",
    "    features.append(canny.flatten())\n",
    "    \n",
    "    lines = hough_transform(image)\n",
    "    features.append(lines.flatten())\n",
    "    \n",
    "    descriptors = sift_features(image)\n",
    "    features.append(descriptors.flatten())\n",
    "    \n",
    "    # Pad or truncate each feature vector to a fixed length (e.g., 2000)\n",
    "    max_length = 2000\n",
    "    padded_features = []\n",
    "    for feature in features:\n",
    "        if feature.shape[0] > max_length:\n",
    "            feature = feature[:max_length]\n",
    "        else:\n",
    "            feature = np.pad(feature, (0, max_length - feature.shape[0]), 'constant')\n",
    "        padded_features.append(feature)\n",
    "    \n",
    "    return np.concatenate(padded_features)\n",
    "\n",
    "# Load images from all categories\n",
    "data = []\n",
    "labels = []\n",
    "color_intensity_features = []\n",
    "\n",
    "for label, folder in dataset_paths.items():\n",
    "    images = load_images_from_folder(folder)\n",
    "    data.extend(images)\n",
    "    labels.extend([label] * len(images))\n",
    "    color_intensity_features.extend([extract_color_intensity(img) for img in images])\n",
    "\n",
    "\n",
    "\n",
    "# for label, folder in dataset_paths.items():\n",
    "#     images = load_images_from_folder(folder)\n",
    "#     for img in images:\n",
    "#         features = extract_features(img)\n",
    "#         data.append(features)\n",
    "#         color_intensity_features.append(extract_color_intensity(img))\n",
    "#         labels.append(label)\n",
    "\n",
    "\n",
    "data = np.array(data)\n",
    "labels = np.array(labels)\n",
    "color_intensity_features = np.array(color_intensity_features)"
   ]
  },
  {
   "cell_type": "code",
   "execution_count": 157,
   "metadata": {},
   "outputs": [],
   "source": [
    "# Flatten the images to create feature vectors\n",
    "data_flattened = data.reshape((data.shape[0], -1))"
   ]
  },
  {
   "cell_type": "code",
   "execution_count": 158,
   "metadata": {},
   "outputs": [],
   "source": [
    "from sklearn.decomposition import PCA\n",
    "\n",
    "# Apply PCA to reduce dimensionality\n",
    "pca = PCA(n_components=30)  # Adjust the number of components based on your needs\n",
    "data_reduced = pca.fit_transform(data_flattened)\n"
   ]
  },
  {
   "cell_type": "code",
   "execution_count": null,
   "metadata": {},
   "outputs": [],
   "source": []
  },
  {
   "cell_type": "code",
   "execution_count": 159,
   "metadata": {},
   "outputs": [],
   "source": [
    "# data_reduced"
   ]
  },
  {
   "cell_type": "code",
   "execution_count": 160,
   "metadata": {},
   "outputs": [],
   "source": [
    "# import matplotlib.pyplot as plt\n",
    "# import numpy as np\n",
    "\n",
    "# PC_values = np.arange(pca.n_components_) + 1\n",
    "# plt.plot(PC_values[0:40], pca.explained_variance_ratio_[0:40], 'o-', linewidth=0.1, color='blue')\n",
    "# plt.title('Scree Plot')\n",
    "# plt.xlabel('Principal Component')\n",
    "# plt.ylabel('Variance Explained')\n",
    "# plt.show()"
   ]
  },
  {
   "cell_type": "code",
   "execution_count": 161,
   "metadata": {},
   "outputs": [],
   "source": [
    "# len(PC_values)"
   ]
  },
  {
   "cell_type": "code",
   "execution_count": 162,
   "metadata": {},
   "outputs": [],
   "source": [
    "combined_features = np.hstack((data_reduced, color_intensity_features))"
   ]
  },
  {
   "cell_type": "code",
   "execution_count": 163,
   "metadata": {},
   "outputs": [],
   "source": [
    "from sklearn.ensemble import RandomForestClassifier\n",
    "#SVM\n",
    "from sklearn.svm import SVC\n",
    "# xgboost\n",
    "from xgboost import XGBClassifier\n",
    "from sklearn.model_selection import train_test_split\n",
    "from sklearn.preprocessing import LabelEncoder\n",
    "from sklearn.metrics import accuracy_score\n",
    "\n",
    "# Encode the labels\n",
    "le = LabelEncoder()\n",
    "labels_encoded = le.fit_transform(labels)\n",
    "\n",
    "# Split the data into training and testing sets\n",
    "X_train, X_test, y_train, y_test = train_test_split(combined_features, labels_encoded, test_size=0.25, random_state=100)"
   ]
  },
  {
   "cell_type": "code",
   "execution_count": 164,
   "metadata": {},
   "outputs": [
    {
     "name": "stdout",
     "output_type": "stream",
     "text": [
      "Accuracy: 68.98%\n"
     ]
    }
   ],
   "source": [
    "# Train the model\n",
    "clf = RandomForestClassifier(n_estimators=100, random_state=100, oob_score=True)\n",
    "clf.fit(X_train, y_train)\n",
    "\n",
    "# Make predictions\n",
    "y_pred = clf.predict(X_test)\n",
    "\n",
    "# Evaluate the model\n",
    "accuracy = accuracy_score(y_test, y_pred)\n",
    "print(f\"Accuracy: {accuracy * 100:.2f}%\")"
   ]
  },
  {
   "cell_type": "code",
   "execution_count": 165,
   "metadata": {},
   "outputs": [
    {
     "name": "stdout",
     "output_type": "stream",
     "text": [
      "Accuracy: 72.33%\n"
     ]
    }
   ],
   "source": [
    "# Train the model\n",
    "clf = XGBClassifier()\n",
    "clf.fit(X_train, y_train)\n",
    "\n",
    "# Make predictions\n",
    "y_pred = clf.predict(X_test)\n",
    "\n",
    "# Evaluate the model\n",
    "accuracy = accuracy_score(y_test, y_pred)\n",
    "print(f\"Accuracy: {accuracy * 100:.2f}%\")"
   ]
  },
  {
   "cell_type": "code",
   "execution_count": 166,
   "metadata": {},
   "outputs": [
    {
     "name": "stdout",
     "output_type": "stream",
     "text": [
      "Accuracy: 71.88%\n"
     ]
    }
   ],
   "source": [
    "# Train svm the model\n",
    "clf = SVC()\n",
    "clf.fit(X_train, y_train)\n",
    "# Make predictions\n",
    "y_pred = clf.predict(X_test)\n",
    "\n",
    "# Evaluate the model\n",
    "accuracy = accuracy_score(y_test, y_pred)\n",
    "print(f\"Accuracy: {accuracy * 100:.2f}%\")"
   ]
  },
  {
   "cell_type": "code",
   "execution_count": 167,
   "metadata": {},
   "outputs": [],
   "source": [
    "from sklearn.ensemble import StackingClassifier, VotingClassifier, BaggingClassifier\n",
    "from sklearn.ensemble import GradientBoostingClassifier"
   ]
  },
  {
   "cell_type": "code",
   "execution_count": 172,
   "metadata": {},
   "outputs": [
    {
     "name": "stdout",
     "output_type": "stream",
     "text": [
      "Accuracy: 73.02%\n"
     ]
    }
   ],
   "source": [
    "# Train svm the model\n",
    "clf = StackingClassifier(estimators=[('xgb', XGBClassifier()),\n",
    "                                    ('rf', RandomForestClassifier(random_state=42)),])\n",
    "clf.fit(X_train, y_train)\n",
    "# Make predictions\n",
    "y_pred = clf.predict(X_test)\n",
    "\n",
    "# Evaluate the model\n",
    "accuracy = accuracy_score(y_test, y_pred)\n",
    "print(f\"Accuracy: {accuracy * 100:.2f}%\")"
   ]
  },
  {
   "cell_type": "code",
   "execution_count": 169,
   "metadata": {},
   "outputs": [],
   "source": [
    "# Assigning labels to the classes\n",
    "label_map = {0: \"Building\", 1: \"Forest\", 2: \"Glacier\", 3: \"Mountain\", 4: \"Sea\", 5: \"Street\"}"
   ]
  },
  {
   "cell_type": "code",
   "execution_count": 173,
   "metadata": {},
   "outputs": [
    {
     "name": "stdout",
     "output_type": "stream",
     "text": [
      "Accuracy: 0.7301829268292683\n",
      "Classification Report:\n",
      "              precision    recall  f1-score   support\n",
      "\n",
      "    Building       0.55      0.41      0.47       117\n",
      "      Forest       0.87      0.96      0.91       689\n",
      "     Glacier       0.52      0.60      0.55       119\n",
      "    Mountain       0.57      0.57      0.57       134\n",
      "         Sea       0.43      0.32      0.37       135\n",
      "      Street       0.64      0.52      0.57       118\n",
      "\n",
      "    accuracy                           0.73      1312\n",
      "   macro avg       0.60      0.56      0.57      1312\n",
      "weighted avg       0.71      0.73      0.72      1312\n",
      "\n"
     ]
    }
   ],
   "source": [
    "# Evaluate the model\n",
    "print(\"Accuracy:\", accuracy_score(y_test, y_pred))\n",
    "print(\"Classification Report:\")\n",
    "print(classification_report(y_test, y_pred, target_names=label_map.values()))"
   ]
  },
  {
   "cell_type": "code",
   "execution_count": null,
   "metadata": {},
   "outputs": [],
   "source": []
  },
  {
   "cell_type": "code",
   "execution_count": 176,
   "metadata": {},
   "outputs": [
    {
     "name": "stdout",
     "output_type": "stream",
     "text": [
      "Predicted label: Building\n"
     ]
    }
   ],
   "source": [
    "# Define a function to make predictions on new images\n",
    "def predict_image(image_path, clf, pca, le):\n",
    "    img = cv2.imread(image_path)\n",
    "    if img is not None:\n",
    "        img = cv2.resize(img, (128, 128))  # Resize image to a fixed size\n",
    "        img_flattened = img.reshape(1, -1)  # Flatten the image\n",
    "        img_reduced = pca.transform(img_flattened)  # Apply PCA\n",
    "        color_intensity = extract_color_intensity(img)  # Extract color intensity features\n",
    "        combined_features = np.hstack((img_reduced, color_intensity.reshape(1, -1)))  # Combine features\n",
    "        pred_encoded = clf.predict(combined_features)  # Predict\n",
    "        pred_label = le.inverse_transform(pred_encoded)  # Decode label\n",
    "        return pred_label[0]\n",
    "    else:\n",
    "        return None\n",
    "\n",
    "# Example usage\n",
    "example_image_path = \"/home/aman/Personal/Task1/test_images/test1.jpg\"\n",
    "predicted_label = predict_image(example_image_path, clf, pca, le)\n",
    "print(f\"Predicted label: {predicted_label}\")\n"
   ]
  },
  {
   "cell_type": "code",
   "execution_count": 177,
   "metadata": {},
   "outputs": [],
   "source": [
    "import pickle, os\n",
    "\n",
    "model_path = os.path.join(os.getcwd() + \"/models\")\n",
    "os.makedirs(model_path, exist_ok=True)\n",
    "\n",
    "model_data = {\n",
    "    'classifier': clf,\n",
    "    'pca': pca,\n",
    "    'label_encoder': le\n",
    "}\n",
    "\n",
    "with open(os.path.join(model_path, \"models.pkl\"), 'wb') as file:\n",
    "    pickle.dump(model_data, file)\n"
   ]
  },
  {
   "cell_type": "code",
   "execution_count": null,
   "metadata": {},
   "outputs": [],
   "source": []
  }
 ],
 "metadata": {
  "kernelspec": {
   "display_name": "tasks",
   "language": "python",
   "name": "python3"
  },
  "language_info": {
   "codemirror_mode": {
    "name": "ipython",
    "version": 3
   },
   "file_extension": ".py",
   "mimetype": "text/x-python",
   "name": "python",
   "nbconvert_exporter": "python",
   "pygments_lexer": "ipython3",
   "version": "3.8.19"
  }
 },
 "nbformat": 4,
 "nbformat_minor": 2
}
